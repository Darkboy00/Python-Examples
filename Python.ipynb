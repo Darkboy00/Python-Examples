{
 "cells": [
  {
   "cell_type": "markdown",
   "id": "d86190c1",
   "metadata": {},
   "source": [
    "# Print Command and Usage"
   ]
  },
  {
   "cell_type": "code",
   "execution_count": 2,
   "id": "17970db6",
   "metadata": {},
   "outputs": [
    {
     "name": "stdout",
     "output_type": "stream",
     "text": [
      "Hi \n",
      "Mehmet\n",
      "My name is \tAli\n"
     ]
    }
   ],
   "source": [
    "print(\"Hi \\nMehmet\")\n",
    "print(\"My name is \\tAli\")"
   ]
  },
  {
   "cell_type": "code",
   "execution_count": 6,
   "id": "123562b5",
   "metadata": {},
   "outputs": [
    {
     "name": "stdout",
     "output_type": "stream",
     "text": [
      "My name is Mesut\n",
      "My name is Mesut, my age is 18\n",
      "My name is Mesut, my age is 18\n",
      "My name is 18, my age is Mesut\n",
      "My name is Mesut, my age is 18\n",
      "My name is Mesut, my age is 18\n"
     ]
    }
   ],
   "source": [
    "print(\"My name is {}\".format(\"Mesut\"))\n",
    "print(\"My name is {}, my age is {}\".format(\"Mesut\",18))\n",
    "\n",
    "print(\"My name is {0}, my age is {1}\".format(\"Mesut\",18))\n",
    "print(\"My name is {1}, my age is {0}\".format(\"Mesut\",18))\n",
    "\n",
    "print(\"My name is {name}, my age is {age}\".format(name = \"Mesut\",age = 18))\n",
    "print(\"My name is {name}, my age is {age}\".format(age = 18,name = \"Mesut\"))"
   ]
  },
  {
   "cell_type": "markdown",
   "id": "1311427c",
   "metadata": {},
   "source": [
    "# Variables\n",
    "Unacceptable variable name assignment scenarios:\n",
    "+ Start with number\n",
    "+ Contain spaces\n",
    "+ \"*(/ contain symbols sush as\n",
    "+ Using reserved names"
   ]
  },
  {
   "cell_type": "code",
   "execution_count": 9,
   "id": "80feb1e1",
   "metadata": {},
   "outputs": [
    {
     "name": "stdout",
     "output_type": "stream",
     "text": [
      "10\n"
     ]
    }
   ],
   "source": [
    "number = 10\n",
    "print(number)"
   ]
  },
  {
   "cell_type": "code",
   "execution_count": 10,
   "id": "811ed71b",
   "metadata": {},
   "outputs": [
    {
     "name": "stdout",
     "output_type": "stream",
     "text": [
      "11\n"
     ]
    }
   ],
   "source": [
    "number = 11\n",
    "print(number)"
   ]
  },
  {
   "cell_type": "code",
   "execution_count": 11,
   "id": "4a184c3b",
   "metadata": {},
   "outputs": [
    {
     "name": "stdout",
     "output_type": "stream",
     "text": [
      "12\n"
     ]
    }
   ],
   "source": [
    "number = number + 1\n",
    "print(number)"
   ]
  },
  {
   "cell_type": "code",
   "execution_count": 12,
   "id": "98591f1b",
   "metadata": {},
   "outputs": [
    {
     "name": "stdout",
     "output_type": "stream",
     "text": [
      "10\n"
     ]
    }
   ],
   "source": [
    "first_number = 10\n",
    "print(first_number)"
   ]
  },
  {
   "cell_type": "code",
   "execution_count": 13,
   "id": "8f162c9f",
   "metadata": {},
   "outputs": [],
   "source": [
    "first_number = 10\n",
    "_ = 20\n",
    "a = 30"
   ]
  },
  {
   "cell_type": "markdown",
   "id": "3f328852",
   "metadata": {},
   "source": [
    "# Data Types"
   ]
  },
  {
   "cell_type": "raw",
   "id": "4bbc4496",
   "metadata": {},
   "source": [
    "# Type       |Abbreviation|   Example\n",
    "------------------------------------\n",
    "Integer    |int         |3,10\n",
    "Float      |float       |1.5,7.0\n",
    "String     |str         |\"Hi2\",\"19\"\n",
    "Boolean    |bool        |True,False\n",
    "List       |list        |[1,2,True,'a',1]\n",
    "Set        |set         |{1,2,True}\n",
    "Dictionary |dict        |{'Name': 'Mehmet', 'Age': 19}\n",
    "Tuple      |tup         |(1,2,True)"
   ]
  },
  {
   "cell_type": "markdown",
   "id": "0777d0cd",
   "metadata": {},
   "source": [
    "### Numbers\n",
    "+ int: integers\n",
    "+ float: decimal numbers"
   ]
  },
  {
   "cell_type": "code",
   "execution_count": 15,
   "id": "1c1e9b56",
   "metadata": {},
   "outputs": [
    {
     "data": {
      "text/plain": [
       "float"
      ]
     },
     "execution_count": 15,
     "metadata": {},
     "output_type": "execute_result"
    }
   ],
   "source": [
    "type(1.5)"
   ]
  },
  {
   "cell_type": "markdown",
   "id": "30b06039",
   "metadata": {},
   "source": [
    "### Arithmetic Operations"
   ]
  },
  {
   "cell_type": "code",
   "execution_count": 16,
   "id": "6fb8435a",
   "metadata": {},
   "outputs": [
    {
     "data": {
      "text/plain": [
       "8"
      ]
     },
     "execution_count": 16,
     "metadata": {},
     "output_type": "execute_result"
    }
   ],
   "source": [
    "3+5"
   ]
  },
  {
   "cell_type": "code",
   "execution_count": 17,
   "id": "a1ac183c",
   "metadata": {},
   "outputs": [
    {
     "data": {
      "text/plain": [
       "15"
      ]
     },
     "execution_count": 17,
     "metadata": {},
     "output_type": "execute_result"
    }
   ],
   "source": [
    "3*5"
   ]
  },
  {
   "cell_type": "code",
   "execution_count": 18,
   "id": "acc1b0e2",
   "metadata": {},
   "outputs": [
    {
     "data": {
      "text/plain": [
       "2"
      ]
     },
     "execution_count": 18,
     "metadata": {},
     "output_type": "execute_result"
    }
   ],
   "source": [
    "5%3"
   ]
  },
  {
   "cell_type": "code",
   "execution_count": 20,
   "id": "3aabb901",
   "metadata": {},
   "outputs": [
    {
     "data": {
      "text/plain": [
       "-2"
      ]
     },
     "execution_count": 20,
     "metadata": {},
     "output_type": "execute_result"
    }
   ],
   "source": [
    "3*4\n",
    "3-5"
   ]
  },
  {
   "cell_type": "code",
   "execution_count": 21,
   "id": "c43fc68c",
   "metadata": {},
   "outputs": [
    {
     "data": {
      "text/plain": [
       "11"
      ]
     },
     "execution_count": 21,
     "metadata": {},
     "output_type": "execute_result"
    }
   ],
   "source": [
    "3+(4*2)"
   ]
  },
  {
   "cell_type": "code",
   "execution_count": 22,
   "id": "b04cf39f",
   "metadata": {},
   "outputs": [
    {
     "data": {
      "text/plain": [
       "6.2"
      ]
     },
     "execution_count": 22,
     "metadata": {},
     "output_type": "execute_result"
    }
   ],
   "source": [
    "3.1 * 2.0"
   ]
  },
  {
   "cell_type": "code",
   "execution_count": 23,
   "id": "4fc53cb8",
   "metadata": {},
   "outputs": [
    {
     "data": {
      "text/plain": [
       "15.0"
      ]
     },
     "execution_count": 23,
     "metadata": {},
     "output_type": "execute_result"
    }
   ],
   "source": [
    "3.0 * 5"
   ]
  },
  {
   "cell_type": "markdown",
   "id": "bdc4ecab",
   "metadata": {},
   "source": [
    "# Articles"
   ]
  },
  {
   "cell_type": "raw",
   "id": "8b4c4aa2",
   "metadata": {},
   "source": [
    "P |Y |T |H |O |N\n",
    "_________________\n",
    "0 |1 |2 |3 |4 |5\n",
    "0 |-5|-4|-3|-2|-1"
   ]
  },
  {
   "cell_type": "code",
   "execution_count": 24,
   "id": "3b601402",
   "metadata": {},
   "outputs": [
    {
     "name": "stdout",
     "output_type": "stream",
     "text": [
      "Python\n"
     ]
    }
   ],
   "source": [
    "strvar = \"Python\"\n",
    "print(strvar)"
   ]
  },
  {
   "cell_type": "code",
   "execution_count": 25,
   "id": "76b11c3c",
   "metadata": {},
   "outputs": [
    {
     "data": {
      "text/plain": [
       "'h'"
      ]
     },
     "execution_count": 25,
     "metadata": {},
     "output_type": "execute_result"
    }
   ],
   "source": [
    "strvar[-3]"
   ]
  },
  {
   "cell_type": "code",
   "execution_count": 26,
   "id": "312c3c12",
   "metadata": {},
   "outputs": [
    {
     "data": {
      "text/plain": [
       "'thon'"
      ]
     },
     "execution_count": 26,
     "metadata": {},
     "output_type": "execute_result"
    }
   ],
   "source": [
    "strvar[2:]"
   ]
  },
  {
   "cell_type": "code",
   "execution_count": 27,
   "id": "b33769e3",
   "metadata": {},
   "outputs": [
    {
     "data": {
      "text/plain": [
       "'Pyt'"
      ]
     },
     "execution_count": 27,
     "metadata": {},
     "output_type": "execute_result"
    }
   ],
   "source": [
    "strvar[:3]"
   ]
  },
  {
   "cell_type": "code",
   "execution_count": 28,
   "id": "155a0595",
   "metadata": {},
   "outputs": [
    {
     "data": {
      "text/plain": [
       "'tho'"
      ]
     },
     "execution_count": 28,
     "metadata": {},
     "output_type": "execute_result"
    }
   ],
   "source": [
    "strvar[2:5]"
   ]
  },
  {
   "cell_type": "code",
   "execution_count": 30,
   "id": "c5dd30d7",
   "metadata": {},
   "outputs": [
    {
     "data": {
      "text/plain": [
       "'yo'"
      ]
     },
     "execution_count": 30,
     "metadata": {},
     "output_type": "execute_result"
    }
   ],
   "source": [
    "strvar[1:5:3]"
   ]
  },
  {
   "cell_type": "raw",
   "id": "2890342d",
   "metadata": {},
   "source": [
    " [] # a single element is taken\n",
    " [:] # elements between start and end are retrieved\n",
    " [::] # elements between the start and end values are taken by skipping according to the value int he third part"
   ]
  },
  {
   "cell_type": "code",
   "execution_count": 31,
   "id": "aa1c4e6a",
   "metadata": {},
   "outputs": [
    {
     "data": {
      "text/plain": [
       "6"
      ]
     },
     "execution_count": 31,
     "metadata": {},
     "output_type": "execute_result"
    }
   ],
   "source": [
    "len(strvar)"
   ]
  },
  {
   "cell_type": "code",
   "execution_count": 41,
   "id": "57c23fbf",
   "metadata": {},
   "outputs": [
    {
     "data": {
      "text/plain": [
       "'Learn Python'"
      ]
     },
     "execution_count": 41,
     "metadata": {},
     "output_type": "execute_result"
    }
   ],
   "source": [
    "strvar = \"Learn \" + strvar\n",
    "strvar"
   ]
  },
  {
   "cell_type": "code",
   "execution_count": 42,
   "id": "c722a94b",
   "metadata": {},
   "outputs": [
    {
     "data": {
      "text/plain": [
       "'Learn PythonLearn PythonLearn PythonLearn PythonLearn Python'"
      ]
     },
     "execution_count": 42,
     "metadata": {},
     "output_type": "execute_result"
    }
   ],
   "source": [
    "strvar * 5"
   ]
  },
  {
   "cell_type": "code",
   "execution_count": 44,
   "id": "47c55975",
   "metadata": {},
   "outputs": [
    {
     "data": {
      "text/plain": [
       "'Learn Python'"
      ]
     },
     "execution_count": 44,
     "metadata": {},
     "output_type": "execute_result"
    }
   ],
   "source": [
    "strvar"
   ]
  },
  {
   "cell_type": "code",
   "execution_count": 49,
   "id": "fa1d0e6a",
   "metadata": {},
   "outputs": [
    {
     "name": "stdout",
     "output_type": "stream",
     "text": [
      "LEARN PYTHON\n",
      "learn python\n",
      "['Lear', ' Pytho', '']\n",
      "['Lear', ' Python']\n"
     ]
    }
   ],
   "source": [
    "print(strvar.upper())\n",
    "print(strvar.lower())\n",
    "print(strvar.split(\"n\"))\n",
    "print(strvar.split(sep = \"n\", maxsplit = 1))"
   ]
  }
 ],
 "metadata": {
  "kernelspec": {
   "display_name": "Python 3 (ipykernel)",
   "language": "python",
   "name": "python3"
  },
  "language_info": {
   "codemirror_mode": {
    "name": "ipython",
    "version": 3
   },
   "file_extension": ".py",
   "mimetype": "text/x-python",
   "name": "python",
   "nbconvert_exporter": "python",
   "pygments_lexer": "ipython3",
   "version": "3.9.7"
  }
 },
 "nbformat": 4,
 "nbformat_minor": 5
}
